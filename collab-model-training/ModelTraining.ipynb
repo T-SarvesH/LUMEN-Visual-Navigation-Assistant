{
 "cells": [
  {
   "cell_type": "code",
   "execution_count": 5,
   "id": "b1c63b80-b422-4cc5-a00c-9d3af6b09cd0",
   "metadata": {},
   "outputs": [],
   "source": [
    "from ultralytics import YOLO\n",
    "import os"
   ]
  },
  {
   "cell_type": "code",
   "execution_count": 6,
   "id": "f1352e00-9e12-4036-91e2-00c27219daae",
   "metadata": {},
   "outputs": [],
   "source": [
    "model = YOLO('yolo11l.pt')"
   ]
  },
  {
   "cell_type": "code",
   "execution_count": null,
   "id": "84b93c40-36c9-499d-b29f-f3b92618a0fd",
   "metadata": {},
   "outputs": [],
   "source": [
    "save_path = 'yollo11l_results'\n",
    "os.makedirs(save_path, exist_ok=True)\n",
    "\n",
    "results = model.train(\n",
    "    data='lvis.yaml', \n",
    "    epochs=100,\n",
    "    imgsz=640,\n",
    "    project=save_path,\n",
    ")"
   ]
  }
 ],
 "metadata": {
  "kernelspec": {
   "display_name": "Collab Virtual Env",
   "language": "python",
   "name": "collab_venv"
  },
  "language_info": {
   "codemirror_mode": {
    "name": "ipython",
    "version": 3
   },
   "file_extension": ".py",
   "mimetype": "text/x-python",
   "name": "python",
   "nbconvert_exporter": "python",
   "pygments_lexer": "ipython3",
   "version": "3.10.12"
  }
 },
 "nbformat": 4,
 "nbformat_minor": 5
}
